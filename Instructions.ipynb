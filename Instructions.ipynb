{
 "cells": [
  {
   "cell_type": "code",
   "execution_count": 1,
   "id": "4ecc8a83",
   "metadata": {},
   "outputs": [],
   "source": [
    "# pip install pydicom\n",
    "# pip install numpy\n",
    "# pip install matplotlib\n",
    "# pip install opencv-python\n",
    "# pip install tqdm\n",
    "# pip install pandas\n",
    "# pip install glob2"
   ]
  },
  {
   "cell_type": "code",
   "execution_count": 2,
   "id": "98d07a63",
   "metadata": {},
   "outputs": [],
   "source": [
    "import DicomPipeLine \n",
    "import cv2"
   ]
  },
  {
   "cell_type": "code",
   "execution_count": 3,
   "id": "aa12d65d",
   "metadata": {},
   "outputs": [],
   "source": [
    "main_data_source_path = 'F:\\DICOM data'"
   ]
  },
  {
   "cell_type": "code",
   "execution_count": 4,
   "id": "b8f94120",
   "metadata": {},
   "outputs": [],
   "source": [
    "preprocessed_data_path = 'F:\\Final Year Project\\Data Pipeline\\TestDataBase_2'"
   ]
  },
  {
   "cell_type": "code",
   "execution_count": 5,
   "id": "23a022b2",
   "metadata": {},
   "outputs": [],
   "source": [
    "sub_folders_to_scan_for = ['2','3','4','5']"
   ]
  },
  {
   "cell_type": "code",
   "execution_count": 6,
   "id": "4c32c2b7",
   "metadata": {},
   "outputs": [
    {
     "name": "stderr",
     "output_type": "stream",
     "text": [
      "100%|███████████████████████████████████████████████████████████████████████████████| 51/51 [00:00<00:00, 17211.90it/s]"
     ]
    },
    {
     "name": "stdout",
     "output_type": "stream",
     "text": [
      "- Found 49 folders with a total of 191 scans\n"
     ]
    },
    {
     "name": "stderr",
     "output_type": "stream",
     "text": [
      "\n"
     ]
    }
   ],
   "source": [
    "path_obj = DicomPipeLine.Path_Settings(main_data_source_path, preprocessed_data_path, sub_folders_to_scan_for)"
   ]
  },
  {
   "cell_type": "code",
   "execution_count": 7,
   "id": "f4b5ce28",
   "metadata": {},
   "outputs": [],
   "source": [
    "# these are the attributes to extract from each patient\n",
    "dcm_attributes_level_0 = [\n",
    "    'PatientName',\n",
    "    'PatientBirthDate',\n",
    "    'PatientSex',\n",
    "    'PatientSize',\n",
    "    'PatientWeight',\n",
    "    'StudyDate', \n",
    "    'StudyTime',\n",
    "    'InstitutionAddress', \n",
    "    'InstitutionName',\n",
    "    'Manufacturer', \n",
    "    'ManufacturerModelName'\n",
    "]\n",
    "\n",
    "# these are the attributes to extract from each scan per patient\n",
    "dcm_attributes_level_1 = [\n",
    "    'AcquisitionDate', \n",
    "    'AcquisitionTime', \n",
    "    'PatientPosition',\n",
    "    'SeriesDescription',\n",
    "    'SeriesDate',\n",
    "    'SeriesTime'\n",
    "]\n",
    "\n",
    "# these are the attributes to extract from each frame per scan \n",
    "dcm_attributes_level_2 = [\n",
    "    'Rows',\n",
    "    'Columns',\n",
    "    'InstanceNumber',\n",
    "    'PixelSpacing',\n",
    "    'ImagePositionPatient',\n",
    "    'ImageOrientationPatient',\n",
    "    'SliceLocation',\n",
    "    'SliceThickness'\n",
    "]\n",
    "\n",
    "# specify all 3 levels of attributes in a array\n",
    "dcm_attributes = [dcm_attributes_level_0, dcm_attributes_level_1, dcm_attributes_level_2]\n"
   ]
  },
  {
   "cell_type": "code",
   "execution_count": 8,
   "id": "89660511",
   "metadata": {},
   "outputs": [],
   "source": [
    "dcm_to_numpy_obj = DicomPipeLine.DCM_Input_To_NPY_Output(path_obj, dcm_attributes)"
   ]
  },
  {
   "cell_type": "code",
   "execution_count": null,
   "id": "ac6ca3f2",
   "metadata": {},
   "outputs": [
    {
     "name": "stdout",
     "output_type": "stream",
     "text": [
      "- processing folder F:\\DICOM data\\1.3.12.2.1107.5.1.4.11050.30000020121704410612500000013\n"
     ]
    },
    {
     "name": "stderr",
     "output_type": "stream",
     "text": [
      "100%|███████████████████████████████████████████████████████████████████████████████| 658/658 [00:00<00:00, 892.73it/s]\n",
      "100%|███████████████████████████████████████████████████████████████████████████████| 658/658 [00:04<00:00, 151.32it/s]\n",
      "100%|███████████████████████████████████████████████████████████████████████████████| 665/665 [00:04<00:00, 147.03it/s]\n",
      "100%|███████████████████████████████████████████████████████████████████████████████| 333/333 [00:02<00:00, 142.11it/s]\n"
     ]
    },
    {
     "name": "stdout",
     "output_type": "stream",
     "text": [
      "- Saving Processed scans ['PET WB  (AC)', 'CT PLAIN', 'CT ARTERIAL', 'CT VENOUS'] ....\n"
     ]
    }
   ],
   "source": [
    "dcm_to_numpy_obj.iterate(2)"
   ]
  },
  {
   "cell_type": "code",
   "execution_count": 8,
   "id": "a36b817c",
   "metadata": {},
   "outputs": [],
   "source": [
    "streamer = DicomPipeLine.Stream_Data(path_obj)"
   ]
  },
  {
   "cell_type": "code",
   "execution_count": 14,
   "id": "c2fe4dee",
   "metadata": {},
   "outputs": [],
   "source": [
    "import time\n",
    "\n",
    "def normalize(img_array):\n",
    "    return cv2.normalize(img_array, dst=None, alpha=0, beta=65535, norm_type=cv2.NORM_MINMAX)"
   ]
  },
  {
   "cell_type": "code",
   "execution_count": 16,
   "id": "c74b3593",
   "metadata": {},
   "outputs": [
    {
     "name": "stdout",
     "output_type": "stream",
     "text": [
      "F:\\Final Year Project\\Data Pipeline\\TestDataBase_2\\1\\CT PLAIN.pickle.gzip\n",
      "F:\\Final Year Project\\Data Pipeline\\TestDataBase_2\\1\\PET WB  (AC).pickle.gzip\n"
     ]
    }
   ],
   "source": [
    "for ct_frame, pt_frame in zip(streamer.iter('1', 'CT PLAIN'), streamer.iter('1', 'PET WB  (AC)')):\n",
    "    \n",
    "    ct_frame = normalize(ct_frame)\n",
    "    pt_frame = normalize(pt_frame)\n",
    "    \n",
    "    cv2.imshow('CT Image', ct_frame)\n",
    "    cv2.imshow('PET Image', pt_frame)\n",
    "    \n",
    "    time.sleep(.2)\n",
    "    cv2.waitKey(4)"
   ]
  },
  {
   "cell_type": "code",
   "execution_count": null,
   "id": "b36de772",
   "metadata": {},
   "outputs": [],
   "source": []
  },
  {
   "cell_type": "code",
   "execution_count": null,
   "id": "6bfe7c10",
   "metadata": {},
   "outputs": [],
   "source": []
  },
  {
   "cell_type": "code",
   "execution_count": null,
   "id": "9e139335",
   "metadata": {},
   "outputs": [],
   "source": []
  },
  {
   "cell_type": "code",
   "execution_count": null,
   "id": "0ae059a5",
   "metadata": {},
   "outputs": [],
   "source": []
  },
  {
   "cell_type": "code",
   "execution_count": null,
   "id": "b5cf40a1",
   "metadata": {},
   "outputs": [],
   "source": [
    "# prev_folder = None\n",
    "# prev_scan = None\n",
    "# for img_array, folder_name, scan_name in streamer.iterate_image_data(0, 1):\n",
    "    \n",
    "#     img_array = cv2.normalize(img_array, dst=None, alpha=0, beta=65535, norm_type=cv2.NORM_MINMAX)\n",
    "#     cv2.imshow('View Window',img_array)\n",
    "    \n",
    "#     if folder_name != prev_folder or prev_scan != scan_name:\n",
    "#         print(f'folder : {folder_name} | Scan : {scan_name}')\n",
    "#         prev_folder = folder_name\n",
    "#         prev_scan = scan_name\n",
    "\n",
    "#     cv2.waitKey(2)"
   ]
  }
 ],
 "metadata": {
  "kernelspec": {
   "display_name": "dcm (dcm)",
   "language": "python",
   "name": "dcm"
  },
  "language_info": {
   "codemirror_mode": {
    "name": "ipython",
    "version": 3
   },
   "file_extension": ".py",
   "mimetype": "text/x-python",
   "name": "python",
   "nbconvert_exporter": "python",
   "pygments_lexer": "ipython3",
   "version": "3.8.10"
  }
 },
 "nbformat": 4,
 "nbformat_minor": 5
}

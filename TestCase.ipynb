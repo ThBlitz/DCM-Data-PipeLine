{
 "cells": [
  {
   "cell_type": "code",
   "execution_count": 1,
   "id": "013d6182",
   "metadata": {},
   "outputs": [],
   "source": [
    "# pip install pydicom\n",
    "# pip install numpy\n",
    "# pip install matplotlib\n",
    "# pip install opencv-python\n",
    "# pip install tqdm\n",
    "# pip install pandas\n",
    "# pip install glob2"
   ]
  },
  {
   "cell_type": "code",
   "execution_count": 2,
   "id": "ad320c93",
   "metadata": {},
   "outputs": [],
   "source": [
    "import DicomPipeLine \n",
    "import cv2"
   ]
  },
  {
   "cell_type": "code",
   "execution_count": 3,
   "id": "da1cee98",
   "metadata": {},
   "outputs": [],
   "source": [
    "# Create a save object which is used to save npy arrays to .pickle.gzip files.\n",
    "\n",
    "gzip_save_obj = DicomPipeLine.Pickle_Gzip()\n"
   ]
  },
  {
   "cell_type": "code",
   "execution_count": 4,
   "id": "3699d2b9",
   "metadata": {},
   "outputs": [],
   "source": [
    "# Specify the main root DICOM data folder. for example the path 'F:\\DICOM data' is the root folder.\n",
    "\n",
    "dcm_main_folder_path = r'F:\\DICOM data' \n"
   ]
  },
  {
   "cell_type": "code",
   "execution_count": 5,
   "id": "129ee7c8",
   "metadata": {},
   "outputs": [],
   "source": [
    "# Specify the names of subfolders to scan for the .dcm files.\n",
    "# for example subfolders '2', '3', '4' and '5' contains the .dcm files.\n",
    "\n",
    "sub_folders_to_scan = ['2', '3', '4', '5']\n"
   ]
  },
  {
   "cell_type": "code",
   "execution_count": 7,
   "id": "ca0d7810",
   "metadata": {},
   "outputs": [
    {
     "name": "stderr",
     "output_type": "stream",
     "text": [
      "100%|██████████████████████████████████████████████████████████████████████████████████████████████████████████████████████████████████████████████████████████████████████████████| 51/51 [00:00<00:00, 12136.71it/s]"
     ]
    },
    {
     "name": "stdout",
     "output_type": "stream",
     "text": [
      "- Found 49 folders with a total of 191 scans\n"
     ]
    },
    {
     "name": "stderr",
     "output_type": "stream",
     "text": [
      "\n"
     ]
    }
   ],
   "source": [
    "# Create a \"sort dcm files\" object which scans for all the dcm files in a root folder and prepares them for conversion to npy.\n",
    "\n",
    "dcm_folders_obj = DicomPipeLine.Sort_DCM_Files(dcm_main_folder_path, sub_folders_to_scan)\n"
   ]
  },
  {
   "cell_type": "code",
   "execution_count": 8,
   "id": "b259f27f",
   "metadata": {},
   "outputs": [
    {
     "name": "stdout",
     "output_type": "stream",
     "text": [
      "[[<DirEntry '1.3.12.2.1107.5.1.4.11050.30000020121704410612500000013'>, ['2', '3', '4', '5']], [<DirEntry '1.3.12.2.1107.5.1.4.11050.30000021062406062175000007914'>, ['2', '3', '4', '5']], [<DirEntry '1.3.12.2.1107.5.1.4.11050.30000021082603485362500000022'>, ['2', '3', '4', '5']], [<DirEntry '1.3.12.2.1107.5.1.4.11050.30000021082603485362500000031'>, ['2', '3', '4', '5']], [<DirEntry '1.3.12.2.1107.5.1.4.11050.30000021083104222950000000028'>, ['2', '3']], [<DirEntry '1.3.12.2.1107.5.1.4.11050.30000021083104222950000000031'>, ['2', '3']], [<DirEntry '1.3.12.2.1107.5.1.4.11050.30000021083104222950000000040'>, ['2', '3', '4']], [<DirEntry '1.3.12.2.1107.5.1.4.11050.30000021083106421190600002974'>, ['2', '3', '4', '5']], [<DirEntry '1.3.12.2.1107.5.1.4.11050.30000021083106421190600005283'>, ['2', '3', '4', '5']], [<DirEntry '1.3.12.2.1107.5.1.4.11050.30000021090206450307800002311'>, ['2', '3', '4', '5']], [<DirEntry '1.3.12.2.1107.5.1.4.11050.30000021090206450307800011552'>, ['2', '3', '4', '5']], [<DirEntry '1.3.12.2.1107.5.1.4.11050.30000021091403562593700000007'>, ['2', '3', '4', '5']], [<DirEntry '1.3.12.2.1107.5.1.4.11050.30000021091403562593700000013'>, ['2', '3', '4', '5']], [<DirEntry '1.3.12.2.1107.5.1.4.11050.30000021091403562593700000028'>, ['2', '3', '4', '5']], [<DirEntry '1.3.12.2.1107.5.1.4.11050.30000021091403562593700000031'>, ['2', '3', '4', '5']], [<DirEntry '1.3.12.2.1107.5.1.4.11050.30000021091403562593700000037'>, ['2', '3', '4', '5']], [<DirEntry '1.3.12.2.1107.5.1.4.11050.30000021091407002196800002037'>, ['2', '3', '4', '5']], [<DirEntry '1.3.12.2.1107.5.1.4.11050.30000021091504093910900000004'>, ['2', '3', '4', '5']], [<DirEntry '1.3.12.2.1107.5.1.4.11050.30000021091504093910900000010'>, ['2', '3', '4', '5']], [<DirEntry '1.3.12.2.1107.5.1.4.11050.30000021091504093910900000022'>, ['2', '3', '4', '5']], [<DirEntry '1.3.12.2.1107.5.1.4.11050.30000021091604034520300000019'>, ['2', '3', '4', '5']], [<DirEntry '1.3.12.2.1107.5.1.4.11050.30000021091604034520300000028'>, ['2', '3', '4', '5']], [<DirEntry '1.3.12.2.1107.5.1.4.11050.30000021092104085307800000007'>, ['2', '3', '4', '5']], [<DirEntry '1.3.12.2.1107.5.1.4.11050.30000021092104085307800000010'>, ['2', '3', '4', '5']], [<DirEntry '1.3.12.2.1107.5.1.4.11050.30000021092104085307800000013'>, ['2', '3', '4', '5']], [<DirEntry '1.3.12.2.1107.5.1.4.11050.30000021092104360662500007675'>, ['2', '3', '4', '5']], [<DirEntry '1.3.12.2.1107.5.1.4.11050.30000021092104360662500011885'>, ['2', '3', '4', '5']], [<DirEntry '1.3.12.2.1107.5.1.4.11050.30000021092904052501500000010'>, ['2', '3', '4', '5']], [<DirEntry '1.3.12.2.1107.5.1.4.11050.30000021092904052501500000013'>, ['2', '3', '4', '5']], [<DirEntry '1.3.12.2.1107.5.1.4.11050.30000021092904052501500000016'>, ['2', '3', '4', '5']], [<DirEntry '1.3.12.2.1107.5.1.4.11050.30000021092904052501500000019'>, ['2', '3', '4', '5']], [<DirEntry '1.3.12.2.1107.5.1.4.11050.30000021092904052501500000022'>, ['2', '3', '4', '5']], [<DirEntry '1.3.12.2.1107.5.1.4.11050.30000021092904052501500000034'>, ['2', '3', '4', '5']], [<DirEntry '1.3.12.2.1107.5.1.4.11050.30000021100504035570300000007'>, ['2', '3', '4', '5']], [<DirEntry '1.3.12.2.1107.5.1.4.11050.30000021100504035570300000010'>, ['2', '3', '4', '5']], [<DirEntry '1.3.12.2.1107.5.1.4.11050.30000021100504035570300000031'>, ['2', '3', '4', '5']], [<DirEntry '1.3.12.2.1107.5.1.4.11050.30000021100704064857800000019'>, ['2', '3', '4', '5']], [<DirEntry '1.3.12.2.1107.5.1.4.11050.30000021100704064857800000025'>, ['2', '3', '4', '5']], [<DirEntry '1.3.12.2.1107.5.1.4.11050.30000021100704064857800000034'>, ['2', '3', '4', '5']], [<DirEntry '1.3.12.2.1107.5.1.4.11050.30000021100704064857800000037'>, ['2', '3', '4', '5']], [<DirEntry '1.3.12.2.1107.5.1.4.11050.30000021100704064857800000040'>, ['2', '3', '4', '5']], [<DirEntry '1.3.12.2.1107.5.1.4.11050.30000021100704064857800000046'>, ['2', '3', '4', '5']], [<DirEntry '1.3.12.2.1107.5.1.4.11050.30000021101204100250000000031'>, ['2', '3', '4', '5']], [<DirEntry '1.3.12.2.1107.5.1.4.11050.30000021101204100250000000037'>, ['2', '3', '4', '5']], [<DirEntry '1.3.12.2.1107.5.1.4.11050.30000021101209183565600002978'>, ['2', '3', '4', '5']], [<DirEntry '1.3.12.2.1107.5.1.4.11050.30000021101209183565600009417'>, ['2', '3', '4', '5']], [<DirEntry '1.3.12.2.1107.5.1.4.11050.30000021101904014559300000007'>, ['2', '3', '4', '5']], [<DirEntry '1.3.12.2.1107.5.1.4.11050.30000021101904014559300000010'>, ['2', '3', '4', '5']], [<DirEntry '1.3.12.2.1107.5.1.4.11050.30000021101904014559300000013'>, ['2', '3', '4', '5']]]\n"
     ]
    }
   ],
   "source": [
    "print(dcm_folders_obj.get_all_folders())"
   ]
  },
  {
   "cell_type": "code",
   "execution_count": 9,
   "id": "e0596878",
   "metadata": {},
   "outputs": [],
   "source": [
    "# specify a empty folder to collect all the compressed data to.\n",
    "\n",
    "database_path = 'F:\\Final Year Project\\Data Pipeline\\TestDataBase_2'\n"
   ]
  },
  {
   "cell_type": "code",
   "execution_count": 10,
   "id": "4dcfe4d3",
   "metadata": {},
   "outputs": [],
   "source": [
    "# specify all the attributes to extract from the root DICOM folder."
   ]
  },
  {
   "cell_type": "code",
   "execution_count": 11,
   "id": "5fb32bc4",
   "metadata": {},
   "outputs": [],
   "source": [
    "# these are the attributes to extract from each patient\n",
    "\n",
    "dcm_attributes_level_0 = [\n",
    "    'PatientBirthDate',\n",
    "    'PatientSex',\n",
    "    'PatientSize',\n",
    "    'PatientWeight',\n",
    "    'StudyDate', \n",
    "    'StudyTime',\n",
    "    'InstitutionAddress', \n",
    "    'InstitutionName',\n",
    "    'Manufacturer', \n",
    "    'ManufacturerModelName'\n",
    "]"
   ]
  },
  {
   "cell_type": "code",
   "execution_count": 12,
   "id": "2bada71f",
   "metadata": {},
   "outputs": [],
   "source": [
    "# these are the attributes to extract from each scan per patient\n",
    "\n",
    "dcm_attributes_level_1 = [\n",
    "    'AcquisitionDate', \n",
    "    'AcquisitionTime', \n",
    "    'PatientPosition',\n",
    "    'SeriesDescription',\n",
    "    'SeriesDate',\n",
    "    'SeriesTime'\n",
    "]"
   ]
  },
  {
   "cell_type": "code",
   "execution_count": 13,
   "id": "baf5f678",
   "metadata": {},
   "outputs": [],
   "source": [
    "# these are the attributes to extract from each frame per scan \n",
    "\n",
    "dcm_attributes_level_2 = [\n",
    "    'Rows',\n",
    "    'Columns',\n",
    "    'InstanceNumber',\n",
    "    'PixelSpacing',\n",
    "    'ImagePositionPatient',\n",
    "    'ImageOrientationPatient',\n",
    "    'SliceLocation',\n",
    "    'SliceThickness'\n",
    "]"
   ]
  },
  {
   "cell_type": "code",
   "execution_count": 14,
   "id": "53edf8b8",
   "metadata": {},
   "outputs": [],
   "source": [
    "# specify all 3 levels of attributes in a array\n",
    "\n",
    "dcm_attributes = [dcm_attributes_level_0, dcm_attributes_level_1, dcm_attributes_level_2]"
   ]
  },
  {
   "cell_type": "code",
   "execution_count": 15,
   "id": "578def74",
   "metadata": {},
   "outputs": [],
   "source": [
    "# Create a \"dicom input to numpy output\" object, \n",
    "#this object will be used to convert the sorted dcm files ( from sort_DCM_Files obj ) to compressed numpy files (.pickle.gzip)\n",
    "\n",
    "to_numpy_obj = DicomPipeLine.DICOM_Input_To_Numpy_Output(\n",
    "    gzip_save_obj, database_path,\n",
    "    dcm_folders_obj.get_all_folders(), dcm_attributes\n",
    ")"
   ]
  },
  {
   "cell_type": "code",
   "execution_count": null,
   "id": "05bf39f5",
   "metadata": {},
   "outputs": [],
   "source": [
    "# call the \"Iterate_To_Numpy\" function of the to_numpy_obj which starts the conversion process.\n",
    "\n",
    "to_numpy_obj.Iterate_To_Numpy()\n"
   ]
  },
  {
   "cell_type": "code",
   "execution_count": null,
   "id": "048f9599",
   "metadata": {},
   "outputs": [],
   "source": [
    "print(to_numpy_obj.error_stack)"
   ]
  },
  {
   "cell_type": "code",
   "execution_count": null,
   "id": "a6f41e76",
   "metadata": {},
   "outputs": [],
   "source": [
    "# Create a data streaming obj , which will be used to stream data from the newly created database.\n",
    "\n",
    "streamer = DicomPipeLine.Stream_Data(gzip_save_obj, 'F:\\Final Year Project\\Data Pipeline\\DataBase_2')\n"
   ]
  },
  {
   "cell_type": "code",
   "execution_count": null,
   "id": "540d5e25",
   "metadata": {},
   "outputs": [],
   "source": [
    "# Use the streamer obj to stream all the data.\n",
    "\n",
    "prev_folder = None\n",
    "prev_scan = None\n",
    "for img_array, folder_name, scan_name in streamer.iterate_image_data():\n",
    "    \n",
    "    img_array = cv2.normalize(img_array, dst=None, alpha=0, beta=65535, norm_type=cv2.NORM_MINMAX)\n",
    "    cv2.imshow('View Window',img_array)\n",
    "    \n",
    "    if folder_name != prev_folder or prev_scan != scan_name:\n",
    "        print(f'folder : {folder_name} | Scan : {scan_name}')\n",
    "        prev_folder = folder_name\n",
    "        prev_scan = scan_name\n",
    "\n",
    "    cv2.waitKey(2)"
   ]
  },
  {
   "cell_type": "code",
   "execution_count": null,
   "id": "347712fc",
   "metadata": {},
   "outputs": [],
   "source": []
  }
 ],
 "metadata": {
  "kernelspec": {
   "display_name": "dcm (dcm)",
   "language": "python",
   "name": "dcm"
  },
  "language_info": {
   "codemirror_mode": {
    "name": "ipython",
    "version": 3
   },
   "file_extension": ".py",
   "mimetype": "text/x-python",
   "name": "python",
   "nbconvert_exporter": "python",
   "pygments_lexer": "ipython3",
   "version": "3.8.10"
  }
 },
 "nbformat": 4,
 "nbformat_minor": 5
}
